{
 "cells": [
  {
   "cell_type": "code",
   "execution_count": 1,
   "metadata": {},
   "outputs": [
    {
     "name": "stdout",
     "output_type": "stream",
     "text": [
      "/home/arkanum/uni/mgr/graph_neurawkes\n"
     ]
    }
   ],
   "source": [
    "%cd .."
   ]
  },
  {
   "cell_type": "code",
   "execution_count": 2,
   "metadata": {},
   "outputs": [
    {
     "name": "stdout",
     "output_type": "stream",
     "text": [
      "0.612282693216572\n"
     ]
    }
   ],
   "source": [
    "import tensorflow as tf\n",
    "tf.enable_eager_execution()\n",
    "\n",
    "from experiments import calculate_everything\n",
    "from data.edgelist_data import utils as edge_utils\n",
    "from src.models import Neurawkes, GraphNeurawkes"
   ]
  },
  {
   "cell_type": "markdown",
   "metadata": {},
   "source": [
    "## Processing utils"
   ]
  },
  {
   "cell_type": "code",
   "execution_count": 3,
   "metadata": {},
   "outputs": [],
   "source": [
    "def df_to_list(df):\n",
    "    return [(int(s), int(r), t) for s,r,t in df.values.tolist()]"
   ]
  },
  {
   "cell_type": "markdown",
   "metadata": {},
   "source": [
    "## Constants"
   ]
  },
  {
   "cell_type": "code",
   "execution_count": 4,
   "metadata": {},
   "outputs": [],
   "source": [
    "VAL_RATIO = 0.2\n",
    "PRED_RATIO = 0.2"
   ]
  },
  {
   "cell_type": "markdown",
   "metadata": {},
   "source": [
    "#### Fb-forum"
   ]
  },
  {
   "cell_type": "code",
   "execution_count": null,
   "metadata": {},
   "outputs": [],
   "source": [
    "DATA_PATH_FB = 'data/edgelist_data/fb-forum/data.csv'\n",
    "GAP_SIZE_FB = 5000\n",
    "NUM_VERTICES_FB = 899"
   ]
  },
  {
   "cell_type": "code",
   "execution_count": 5,
   "metadata": {},
   "outputs": [],
   "source": [
    "tf.reset_default_graph()\n",
    "SAVE_PATH_FB = 'saves/gnh_fb-forum/1'\n",
    "GNH_MODEL_FB = GraphNeurawkes(64, NUM_VERTICES_FB, 50, True)"
   ]
  },
  {
   "cell_type": "markdown",
   "metadata": {},
   "source": [
    "#### Radoslaw"
   ]
  },
  {
   "cell_type": "code",
   "execution_count": null,
   "metadata": {},
   "outputs": [],
   "source": [
    "DATA_PATH_RAD = 'data/edgelist_data/ia-radoslaw-email/data.csv'\n",
    "GAP_SIZE_RAD = 45000\n",
    "NUM_VERTICES_RAD = 167"
   ]
  },
  {
   "cell_type": "code",
   "execution_count": 5,
   "metadata": {},
   "outputs": [],
   "source": [
    "tf.reset_default_graph()\n",
    "SAVE_PATH_RAD = 'saves/gnh_radoslaw/25'\n",
    "GNH_MODEL_RAD = GraphNeurawkes(64, NUM_VERTICES_RAD, 50, True)"
   ]
  },
  {
   "cell_type": "markdown",
   "metadata": {},
   "source": [
    "#### Hypertext"
   ]
  },
  {
   "cell_type": "code",
   "execution_count": null,
   "metadata": {},
   "outputs": [],
   "source": [
    "DATA_PATH_HYP = 'data/edgelist_data/ia-contacts_hypertext2009/data.csv'\n",
    "GAP_SIZE_HYP = 75\n",
    "NUM_VERTICES_HYP = 113"
   ]
  },
  {
   "cell_type": "code",
   "execution_count": 5,
   "metadata": {},
   "outputs": [],
   "source": [
    "tf.reset_default_graph()\n",
    "SAVE_PATH_HYP = 'saves/gnh_hypertext/13'\n",
    "GNH_MODEL_HYP = GraphNeurawkes(64, NUM_VERTICES_FB, 50, False)"
   ]
  },
  {
   "cell_type": "markdown",
   "metadata": {},
   "source": [
    "## Processing functions"
   ]
  },
  {
   "cell_type": "code",
   "execution_count": 10,
   "metadata": {},
   "outputs": [],
   "source": [
    "def get_longest_val_sequence(data_path, gap_size):\n",
    "    df = edge_utils._get_df(data_path)\n",
    "    num_ids = max(df.sender.max(), df.recipient.max()) + 1\n",
    "\n",
    "    dfs = edge_utils.cut_on_big_gaps(df, gap_size)\n",
    "    val_count = int(len(dfs) * VAL_RATIO)\n",
    "    val_dfs = dfs[:val_count]\n",
    "    \n",
    "    return df_to_list(max(val_dfs, key=lambda d: len(d)))"
   ]
  },
  {
   "cell_type": "code",
   "execution_count": 7,
   "metadata": {},
   "outputs": [],
   "source": [
    "def calculate_stats_for_seq(seq, mode):\n",
    "    true_len = int(len(seq) * PRED_RATIO)\n",
    "    seed_seq, true_seq = seq[:-true_len], seq[-true_len:]\n",
    "\n",
    "    if mode == 'length':\n",
    "        pred_seq = GNH_MODEL_FB.generate(saved_path=SAVE_PATH_FB, seed=seed_seq, max_events=len(true_seq))\n",
    "    elif mode == 'duration':\n",
    "        pred_seq = GNH_MODEL_FB.generate(saved_path=SAVE_PATH_FB, seed=seed_seq, max_time=true_seq[-1][2])\n",
    "\n",
    "    return calculate_everything(pred_seq, true_seq, NUM_VERTICES_FB)"
   ]
  },
  {
   "cell_type": "markdown",
   "metadata": {},
   "source": [
    "## THE MEAT"
   ]
  },
  {
   "cell_type": "code",
   "execution_count": 11,
   "metadata": {},
   "outputs": [],
   "source": [
    "val_seq = get_longest_val_sequence(DATA_PATH_FB, GAP_SIZE_FB)"
   ]
  },
  {
   "cell_type": "code",
   "execution_count": 15,
   "metadata": {},
   "outputs": [
    {
     "name": "stdout",
     "output_type": "stream",
     "text": [
      "WARNING:tensorflow:Saver is deprecated, please switch to tf.train.Checkpoint or tf.keras.Model.save_weights for training checkpoints. When executing eagerly variables do not necessarily have unique names, and so the variable.name-based lookups Saver performs are error-prone.\n",
      "INFO:tensorflow:Restoring parameters from saves/gnh_fb-forum/1\n"
     ]
    },
    {
     "data": {
      "text/plain": [
       "[0.3645443196004994,\n",
       " 0.18407960199004975,\n",
       " 0.610637785220384,\n",
       " 0.22735346358792186,\n",
       " 0.1196236559139785,\n",
       " 0.6882501033753651,\n",
       " 0.17795275590551182,\n",
       " 0.10039630118890357,\n",
       " 0.7118628567204097,\n",
       " 0.0014134275618374558,\n",
       " 0.8315545451977476,\n",
       " 0.0,\n",
       " (array([ 16,  59,  90,  83,  37,  52, 107, 138, 140, 111]),\n",
       "  array([-6.76644375e+04, -6.08976781e+04, -5.41309187e+04, -4.73641594e+04,\n",
       "         -4.05974000e+04, -3.38306406e+04, -2.70638813e+04, -2.02971219e+04,\n",
       "         -1.35303625e+04, -6.76360313e+03,  3.15625000e+00]))]"
      ]
     },
     "execution_count": 15,
     "metadata": {},
     "output_type": "execute_result"
    }
   ],
   "source": [
    "calculate_stats_for_seq(val_seq)"
   ]
  }
 ],
 "metadata": {
  "kernelspec": {
   "display_name": "Python 3",
   "language": "python",
   "name": "python3"
  },
  "language_info": {
   "codemirror_mode": {
    "name": "ipython",
    "version": 3
   },
   "file_extension": ".py",
   "mimetype": "text/x-python",
   "name": "python",
   "nbconvert_exporter": "python",
   "pygments_lexer": "ipython3",
   "version": "3.7.1"
  }
 },
 "nbformat": 4,
 "nbformat_minor": 2
}
