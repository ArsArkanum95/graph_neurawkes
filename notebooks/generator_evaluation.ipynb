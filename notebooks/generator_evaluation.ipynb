{
 "cells": [
  {
   "cell_type": "code",
   "execution_count": 1,
   "metadata": {
    "scrolled": true
   },
   "outputs": [
    {
     "name": "stdout",
     "output_type": "stream",
     "text": [
      "/home/jovyan/work/mjozwiak/mgr_experiments\n"
     ]
    }
   ],
   "source": [
    "%cd ../.."
   ]
  },
  {
   "cell_type": "code",
   "execution_count": 2,
   "metadata": {},
   "outputs": [
    {
     "name": "stderr",
     "output_type": "stream",
     "text": [
      "/opt/conda/lib/python3.6/site-packages/h5py/__init__.py:36: FutureWarning: Conversion of the second argument of issubdtype from `float` to `np.floating` is deprecated. In future, it will be treated as `np.float64 == np.dtype(float).type`.\n",
      "  from ._conv import register_converters as _register_converters\n"
     ]
    }
   ],
   "source": [
    "import json\n",
    "\n",
    "from functools import wraps\n",
    "from itertools import product\n",
    "\n",
    "import tensorflow as tf\n",
    "tf.enable_eager_execution()\n",
    "\n",
    "from graph_neurawkes.experiments import calculate_everything\n",
    "from graph_neurawkes.data.edgelist_data import utils as edge_utils\n",
    "from graph_neurawkes.src.models import Neurawkes, GraphNeurawkes"
   ]
  },
  {
   "cell_type": "markdown",
   "metadata": {},
   "source": [
    "## Utils"
   ]
  },
  {
   "cell_type": "code",
   "execution_count": 3,
   "metadata": {},
   "outputs": [],
   "source": [
    "def df_to_list(df):\n",
    "    return [(int(s), int(r), t) for s,r,t in df.values.tolist()]\n",
    "\n",
    "def reset_tf_graph_decorator(func):\n",
    "    @wraps(func)\n",
    "    def wrapper(*args, **kwargs):\n",
    "        tf.reset_default_graph()\n",
    "        return func(*args, **kwargs)\n",
    "    return wrapper"
   ]
  },
  {
   "cell_type": "markdown",
   "metadata": {},
   "source": [
    "## Constants"
   ]
  },
  {
   "cell_type": "code",
   "execution_count": 4,
   "metadata": {},
   "outputs": [],
   "source": [
    "VAL_RATIO = 0.2\n",
    "PRED_RATIO = 0.2"
   ]
  },
  {
   "cell_type": "markdown",
   "metadata": {},
   "source": [
    "#### Fb-forum"
   ]
  },
  {
   "cell_type": "code",
   "execution_count": 5,
   "metadata": {},
   "outputs": [],
   "source": [
    "DATA_PATH_FB = 'graph_neurawkes/data/edgelist_data/fb-forum/data.csv'\n",
    "GAP_SIZE_FB = 5000\n",
    "NUM_VERTICES_FB = 899\n",
    "\n",
    "SAVE_PATH_FULL_FB = 'graph_neurawkes/saves/gnh_fb-forum/1'\n",
    "SAVE_PATH_NAIVE_FB = 'graph_neurawkes/saves/nh_fb-forum/naive_basic_fb'"
   ]
  },
  {
   "cell_type": "code",
   "execution_count": 6,
   "metadata": {},
   "outputs": [],
   "source": [
    "@reset_tf_graph_decorator\n",
    "def get_gnh_model_fb():\n",
    "    return GraphNeurawkes(64, NUM_VERTICES_FB, 50, True)\n",
    "\n",
    "@reset_tf_graph_decorator\n",
    "def get_nh_model_fb():\n",
    "    return Neurawkes(64, NUM_VERTICES_FB ** 2)"
   ]
  },
  {
   "cell_type": "markdown",
   "metadata": {},
   "source": [
    "#### Radoslaw"
   ]
  },
  {
   "cell_type": "code",
   "execution_count": 7,
   "metadata": {},
   "outputs": [],
   "source": [
    "DATA_PATH_RAD = 'graph_neurawkes/data/edgelist_data/ia-radoslaw-email/data.csv'\n",
    "GAP_SIZE_RAD = 45000\n",
    "NUM_VERTICES_RAD = 167\n",
    "\n",
    "SAVE_PATH_FULL_RAD = 'graph_neurawkes/saves/gnh_radoslaw/25'\n",
    "SAVE_PATH_NAIVE_RAD = 'graph_neurawkes/saves/nh_radoslaw/naive_basic_radoslaw'"
   ]
  },
  {
   "cell_type": "code",
   "execution_count": 8,
   "metadata": {},
   "outputs": [],
   "source": [
    "@reset_tf_graph_decorator\n",
    "def get_gnh_model_radoslaw():\n",
    "    return GraphNeurawkes(64, NUM_VERTICES_RAD, 50, True)\n",
    "\n",
    "@reset_tf_graph_decorator\n",
    "def get_nh_model_radoslaw():\n",
    "    return Neurawkes(64, NUM_VERTICES_RAD ** 2)"
   ]
  },
  {
   "cell_type": "markdown",
   "metadata": {},
   "source": [
    "#### Hypertext"
   ]
  },
  {
   "cell_type": "code",
   "execution_count": 9,
   "metadata": {},
   "outputs": [],
   "source": [
    "DATA_PATH_HYP = 'graph_neurawkes/data/edgelist_data/ia-contacts_hypertext2009/data.csv'\n",
    "GAP_SIZE_HYP = 75\n",
    "NUM_VERTICES_HYP = 113\n",
    "\n",
    "SAVE_PATH_FULL_HYP = 'graph_neurawkes/saves/gnh_hypertext/13'\n",
    "SAVE_PATH_NAIVE_HYP = 'graph_neurawkes/saves/nh_hypertext/naive_basic_ia'"
   ]
  },
  {
   "cell_type": "code",
   "execution_count": 10,
   "metadata": {},
   "outputs": [],
   "source": [
    "@reset_tf_graph_decorator\n",
    "def get_gnh_model_hypertext():\n",
    "    return GraphNeurawkes(64, NUM_VERTICES_HYP, 50, False)\n",
    "    \n",
    "@reset_tf_graph_decorator\n",
    "def get_nh_model_hypertext():\n",
    "    return Neurawkes(64, NUM_VERTICES_HYP ** 2 - NUM_VERTICES_HYP)"
   ]
  },
  {
   "cell_type": "markdown",
   "metadata": {},
   "source": [
    "## Processing functions"
   ]
  },
  {
   "cell_type": "code",
   "execution_count": 11,
   "metadata": {},
   "outputs": [],
   "source": [
    "def get_longest_val_sequence(data_path, gap_size):\n",
    "    df = edge_utils._get_df_from_csv(data_path)\n",
    "    num_ids = max(df.sender.max(), df.recipient.max()) + 1\n",
    "\n",
    "    dfs = edge_utils.cut_on_big_gaps(df, gap_size)\n",
    "    val_count = int(len(dfs) * VAL_RATIO)\n",
    "    val_dfs = dfs[:val_count]\n",
    "    \n",
    "    return df_to_list(max(val_dfs, key=lambda d: len(d)))\n",
    "\n",
    "def split_seq_into_seed_and_true(seq):\n",
    "    true_len = int(len(seq) * PRED_RATIO)\n",
    "    seed_seq, true_seq = seq[:-true_len], seq[-true_len:]\n",
    "    return seed_seq, true_seq\n",
    "\n",
    "def generate_sequence(seed_seq, true_seq, mode, model, save_path):\n",
    "    if mode == 'length':\n",
    "        pred_seq = model.generate(saved_path=save_path, seed=seed_seq, max_events=len(true_seq))\n",
    "    elif mode == 'duration':\n",
    "        pred_seq = model.generate(saved_path=save_path, seed=seed_seq, max_time=true_seq[-1][2])\n",
    "\n",
    "    return pred_seq"
   ]
  },
  {
   "cell_type": "markdown",
   "metadata": {},
   "source": [
    "## THE MEAT"
   ]
  },
  {
   "cell_type": "markdown",
   "metadata": {},
   "source": [
    "### Jaccard-esque"
   ]
  },
  {
   "cell_type": "code",
   "execution_count": 12,
   "metadata": {},
   "outputs": [],
   "source": [
    "EXPERIMENT_SPEC = [\n",
    "    ('hyper', DATA_PATH_HYP, GAP_SIZE_HYP, get_gnh_model_hypertext, SAVE_PATH_FULL_HYP, get_nh_model_hypertext, SAVE_PATH_NAIVE_HYP),\n",
    "    ('radoslaw', DATA_PATH_RAD, GAP_SIZE_RAD, get_gnh_model_radoslaw, SAVE_PATH_FULL_RAD, get_nh_model_radoslaw, SAVE_PATH_NAIVE_RAD),\n",
    "    ('fb', DATA_PATH_FB, GAP_SIZE_FB, get_gnh_model_fb, SAVE_PATH_FULL_FB, get_nh_model_fb, SAVE_PATH_NAIVE_FB)\n",
    "]"
   ]
  },
  {
   "cell_type": "code",
   "execution_count": 14,
   "metadata": {},
   "outputs": [
    {
     "name": "stdout",
     "output_type": "stream",
     "text": [
      "INFO:tensorflow:Restoring parameters from graph_neurawkes/saves/gnh_hypertext/13\n",
      "events: 1241/None\ttime: 7.8e+03/7761.0\n"
     ]
    },
    {
     "ename": "TypeError",
     "evalue": "Object of type 'float32' is not JSON serializable",
     "output_type": "error",
     "traceback": [
      "\u001b[0;31m---------------------------------------------------------------------------\u001b[0m",
      "\u001b[0;31mTypeError\u001b[0m                                 Traceback (most recent call last)",
      "\u001b[0;32m<ipython-input-14-9b7a115bbcaa>\u001b[0m in \u001b[0;36m<module>\u001b[0;34m\u001b[0m\n\u001b[1;32m     15\u001b[0m \u001b[0;34m\u001b[0m\u001b[0m\n\u001b[1;32m     16\u001b[0m             \u001b[0;32mwith\u001b[0m \u001b[0mopen\u001b[0m\u001b[0;34m(\u001b[0m\u001b[0;34mf'graph_neurawkes/experiments/jaccard_results/{name}_{model_mode}_{gen_mode}.txt'\u001b[0m\u001b[0;34m,\u001b[0m \u001b[0;34m'a'\u001b[0m\u001b[0;34m)\u001b[0m \u001b[0;32mas\u001b[0m \u001b[0mf\u001b[0m\u001b[0;34m:\u001b[0m\u001b[0;34m\u001b[0m\u001b[0;34m\u001b[0m\u001b[0m\n\u001b[0;32m---> 17\u001b[0;31m                 \u001b[0mf\u001b[0m\u001b[0;34m.\u001b[0m\u001b[0mwrite\u001b[0m\u001b[0;34m(\u001b[0m\u001b[0mjson\u001b[0m\u001b[0;34m.\u001b[0m\u001b[0mdumps\u001b[0m\u001b[0;34m(\u001b[0m\u001b[0mgenerated_seq\u001b[0m\u001b[0;34m)\u001b[0m \u001b[0;34m+\u001b[0m \u001b[0;34m'\\n'\u001b[0m\u001b[0;34m)\u001b[0m\u001b[0;34m\u001b[0m\u001b[0;34m\u001b[0m\u001b[0m\n\u001b[0m",
      "\u001b[0;32m/opt/conda/lib/python3.6/json/__init__.py\u001b[0m in \u001b[0;36mdumps\u001b[0;34m(obj, skipkeys, ensure_ascii, check_circular, allow_nan, cls, indent, separators, default, sort_keys, **kw)\u001b[0m\n\u001b[1;32m    229\u001b[0m         \u001b[0mcls\u001b[0m \u001b[0;32mis\u001b[0m \u001b[0;32mNone\u001b[0m \u001b[0;32mand\u001b[0m \u001b[0mindent\u001b[0m \u001b[0;32mis\u001b[0m \u001b[0;32mNone\u001b[0m \u001b[0;32mand\u001b[0m \u001b[0mseparators\u001b[0m \u001b[0;32mis\u001b[0m \u001b[0;32mNone\u001b[0m \u001b[0;32mand\u001b[0m\u001b[0;34m\u001b[0m\u001b[0;34m\u001b[0m\u001b[0m\n\u001b[1;32m    230\u001b[0m         default is None and not sort_keys and not kw):\n\u001b[0;32m--> 231\u001b[0;31m         \u001b[0;32mreturn\u001b[0m \u001b[0m_default_encoder\u001b[0m\u001b[0;34m.\u001b[0m\u001b[0mencode\u001b[0m\u001b[0;34m(\u001b[0m\u001b[0mobj\u001b[0m\u001b[0;34m)\u001b[0m\u001b[0;34m\u001b[0m\u001b[0;34m\u001b[0m\u001b[0m\n\u001b[0m\u001b[1;32m    232\u001b[0m     \u001b[0;32mif\u001b[0m \u001b[0mcls\u001b[0m \u001b[0;32mis\u001b[0m \u001b[0;32mNone\u001b[0m\u001b[0;34m:\u001b[0m\u001b[0;34m\u001b[0m\u001b[0;34m\u001b[0m\u001b[0m\n\u001b[1;32m    233\u001b[0m         \u001b[0mcls\u001b[0m \u001b[0;34m=\u001b[0m \u001b[0mJSONEncoder\u001b[0m\u001b[0;34m\u001b[0m\u001b[0;34m\u001b[0m\u001b[0m\n",
      "\u001b[0;32m/opt/conda/lib/python3.6/json/encoder.py\u001b[0m in \u001b[0;36mencode\u001b[0;34m(self, o)\u001b[0m\n\u001b[1;32m    197\u001b[0m         \u001b[0;31m# exceptions aren't as detailed.  The list call should be roughly\u001b[0m\u001b[0;34m\u001b[0m\u001b[0;34m\u001b[0m\u001b[0;34m\u001b[0m\u001b[0m\n\u001b[1;32m    198\u001b[0m         \u001b[0;31m# equivalent to the PySequence_Fast that ''.join() would do.\u001b[0m\u001b[0;34m\u001b[0m\u001b[0;34m\u001b[0m\u001b[0;34m\u001b[0m\u001b[0m\n\u001b[0;32m--> 199\u001b[0;31m         \u001b[0mchunks\u001b[0m \u001b[0;34m=\u001b[0m \u001b[0mself\u001b[0m\u001b[0;34m.\u001b[0m\u001b[0miterencode\u001b[0m\u001b[0;34m(\u001b[0m\u001b[0mo\u001b[0m\u001b[0;34m,\u001b[0m \u001b[0m_one_shot\u001b[0m\u001b[0;34m=\u001b[0m\u001b[0;32mTrue\u001b[0m\u001b[0;34m)\u001b[0m\u001b[0;34m\u001b[0m\u001b[0;34m\u001b[0m\u001b[0m\n\u001b[0m\u001b[1;32m    200\u001b[0m         \u001b[0;32mif\u001b[0m \u001b[0;32mnot\u001b[0m \u001b[0misinstance\u001b[0m\u001b[0;34m(\u001b[0m\u001b[0mchunks\u001b[0m\u001b[0;34m,\u001b[0m \u001b[0;34m(\u001b[0m\u001b[0mlist\u001b[0m\u001b[0;34m,\u001b[0m \u001b[0mtuple\u001b[0m\u001b[0;34m)\u001b[0m\u001b[0;34m)\u001b[0m\u001b[0;34m:\u001b[0m\u001b[0;34m\u001b[0m\u001b[0;34m\u001b[0m\u001b[0m\n\u001b[1;32m    201\u001b[0m             \u001b[0mchunks\u001b[0m \u001b[0;34m=\u001b[0m \u001b[0mlist\u001b[0m\u001b[0;34m(\u001b[0m\u001b[0mchunks\u001b[0m\u001b[0;34m)\u001b[0m\u001b[0;34m\u001b[0m\u001b[0;34m\u001b[0m\u001b[0m\n",
      "\u001b[0;32m/opt/conda/lib/python3.6/json/encoder.py\u001b[0m in \u001b[0;36miterencode\u001b[0;34m(self, o, _one_shot)\u001b[0m\n\u001b[1;32m    255\u001b[0m                 \u001b[0mself\u001b[0m\u001b[0;34m.\u001b[0m\u001b[0mkey_separator\u001b[0m\u001b[0;34m,\u001b[0m \u001b[0mself\u001b[0m\u001b[0;34m.\u001b[0m\u001b[0mitem_separator\u001b[0m\u001b[0;34m,\u001b[0m \u001b[0mself\u001b[0m\u001b[0;34m.\u001b[0m\u001b[0msort_keys\u001b[0m\u001b[0;34m,\u001b[0m\u001b[0;34m\u001b[0m\u001b[0;34m\u001b[0m\u001b[0m\n\u001b[1;32m    256\u001b[0m                 self.skipkeys, _one_shot)\n\u001b[0;32m--> 257\u001b[0;31m         \u001b[0;32mreturn\u001b[0m \u001b[0m_iterencode\u001b[0m\u001b[0;34m(\u001b[0m\u001b[0mo\u001b[0m\u001b[0;34m,\u001b[0m \u001b[0;36m0\u001b[0m\u001b[0;34m)\u001b[0m\u001b[0;34m\u001b[0m\u001b[0;34m\u001b[0m\u001b[0m\n\u001b[0m\u001b[1;32m    258\u001b[0m \u001b[0;34m\u001b[0m\u001b[0m\n\u001b[1;32m    259\u001b[0m def _make_iterencode(markers, _default, _encoder, _indent, _floatstr,\n",
      "\u001b[0;32m/opt/conda/lib/python3.6/json/encoder.py\u001b[0m in \u001b[0;36mdefault\u001b[0;34m(self, o)\u001b[0m\n\u001b[1;32m    178\u001b[0m         \"\"\"\n\u001b[1;32m    179\u001b[0m         raise TypeError(\"Object of type '%s' is not JSON serializable\" %\n\u001b[0;32m--> 180\u001b[0;31m                         o.__class__.__name__)\n\u001b[0m\u001b[1;32m    181\u001b[0m \u001b[0;34m\u001b[0m\u001b[0m\n\u001b[1;32m    182\u001b[0m     \u001b[0;32mdef\u001b[0m \u001b[0mencode\u001b[0m\u001b[0;34m(\u001b[0m\u001b[0mself\u001b[0m\u001b[0;34m,\u001b[0m \u001b[0mo\u001b[0m\u001b[0;34m)\u001b[0m\u001b[0;34m:\u001b[0m\u001b[0;34m\u001b[0m\u001b[0;34m\u001b[0m\u001b[0m\n",
      "\u001b[0;31mTypeError\u001b[0m: Object of type 'float32' is not JSON serializable"
     ]
    }
   ],
   "source": [
    "for name, data_path, gap_size, gnh_model_func, full_savepath, nh_model_func, naive_savepath in EXPERIMENT_SPEC:\n",
    "    val_seq = get_longest_val_sequence(data_path, gap_size)\n",
    "    seed_seq, true_seq = split_seq_into_seed_and_true(val_seq)\n",
    "\n",
    "    for gen_mode, model_mode in product(['duration', 'length'], ['full', 'naive']):\n",
    "        if model_mode == 'full':\n",
    "            model_func = gnh_model_func\n",
    "            savepath = full_savepath\n",
    "        else:\n",
    "            model_func = nh_model_func\n",
    "            savepath = naive_savepath\n",
    "\n",
    "        for _ in range(50):\n",
    "            generated_seq = generate_sequence(seed_seq, true_seq, gen_mode, model_func(), savepath)\n",
    "            generated_seq = [(s, r, t.item()) for s, r, t in generated_seq]\n",
    "\n",
    "            with open(f'graph_neurawkes/experiments/jaccard_results/{name}_{model_mode}_{gen_mode}.txt', 'a') as f:\n",
    "                f.write(json.dumps(generated_seq) + '\\n')"
   ]
  },
  {
   "cell_type": "code",
   "execution_count": 21,
   "metadata": {},
   "outputs": [
    {
     "data": {
      "text/plain": [
       "4901.15087890625"
      ]
     },
     "execution_count": 21,
     "metadata": {},
     "output_type": "execute_result"
    }
   ],
   "source": [
    "generated_seq[0][2].item()"
   ]
  },
  {
   "cell_type": "markdown",
   "metadata": {},
   "source": [
    "### Synthetic tests"
   ]
  }
 ],
 "metadata": {
  "kernelspec": {
   "display_name": "Python 3",
   "language": "python",
   "name": "python3"
  },
  "language_info": {
   "codemirror_mode": {
    "name": "ipython",
    "version": 3
   },
   "file_extension": ".py",
   "mimetype": "text/x-python",
   "name": "python",
   "nbconvert_exporter": "python",
   "pygments_lexer": "ipython3",
   "version": "3.6.7"
  }
 },
 "nbformat": 4,
 "nbformat_minor": 2
}
