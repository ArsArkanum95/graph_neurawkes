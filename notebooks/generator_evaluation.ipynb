{
 "cells": [
  {
   "cell_type": "code",
   "execution_count": 1,
   "metadata": {
    "scrolled": true
   },
   "outputs": [
    {
     "name": "stdout",
     "output_type": "stream",
     "text": [
      "/home/mjozwiak/uni/mgr\n"
     ]
    }
   ],
   "source": [
    "%cd ../.."
   ]
  },
  {
   "cell_type": "code",
   "execution_count": 3,
   "metadata": {},
   "outputs": [],
   "source": [
    "import tensorflow as tf\n",
    "tf.enable_eager_execution()\n",
    "\n",
    "from graph_neurawkes.experiments import calculate_everything\n",
    "from graph_neurawkes.data.edgelist_data import utils as edge_utils\n",
    "from graph_neurawkes.src.models import Neurawkes, GraphNeurawkes"
   ]
  },
  {
   "cell_type": "markdown",
   "metadata": {},
   "source": [
    "## Processing utils"
   ]
  },
  {
   "cell_type": "code",
   "execution_count": 3,
   "metadata": {},
   "outputs": [],
   "source": [
    "def df_to_list(df):\n",
    "    return [(int(s), int(r), t) for s,r,t in df.values.tolist()]"
   ]
  },
  {
   "cell_type": "markdown",
   "metadata": {},
   "source": [
    "## Constants"
   ]
  },
  {
   "cell_type": "code",
   "execution_count": 4,
   "metadata": {},
   "outputs": [],
   "source": [
    "VAL_RATIO = 0.2\n",
    "PRED_RATIO = 0.2"
   ]
  },
  {
   "cell_type": "markdown",
   "metadata": {},
   "source": [
    "#### Fb-forum"
   ]
  },
  {
   "cell_type": "code",
   "execution_count": null,
   "metadata": {},
   "outputs": [],
   "source": [
    "DATA_PATH_FB = 'data/edgelist_data/fb-forum/data.csv'\n",
    "GAP_SIZE_FB = 5000\n",
    "NUM_VERTICES_FB = 899"
   ]
  },
  {
   "cell_type": "code",
   "execution_count": 5,
   "metadata": {},
   "outputs": [],
   "source": [
    "tf.reset_default_graph()\n",
    "SAVE_PATH_FB = 'saves/gnh_fb-forum/1'\n",
    "GNH_MODEL_FB = GraphNeurawkes(64, NUM_VERTICES_FB, 50, True)"
   ]
  },
  {
   "cell_type": "markdown",
   "metadata": {},
   "source": [
    "#### Radoslaw"
   ]
  },
  {
   "cell_type": "code",
   "execution_count": null,
   "metadata": {},
   "outputs": [],
   "source": [
    "DATA_PATH_RAD = 'data/edgelist_data/ia-radoslaw-email/data.csv'\n",
    "GAP_SIZE_RAD = 45000\n",
    "NUM_VERTICES_RAD = 167"
   ]
  },
  {
   "cell_type": "code",
   "execution_count": 5,
   "metadata": {},
   "outputs": [],
   "source": [
    "tf.reset_default_graph()\n",
    "SAVE_PATH_RAD = 'saves/gnh_radoslaw/25'\n",
    "GNH_MODEL_RAD = GraphNeurawkes(64, NUM_VERTICES_RAD, 50, True)"
   ]
  },
  {
   "cell_type": "markdown",
   "metadata": {},
   "source": [
    "#### Hypertext"
   ]
  },
  {
   "cell_type": "code",
   "execution_count": null,
   "metadata": {},
   "outputs": [],
   "source": [
    "DATA_PATH_HYP = 'data/edgelist_data/ia-contacts_hypertext2009/data.csv'\n",
    "GAP_SIZE_HYP = 75\n",
    "NUM_VERTICES_HYP = 113"
   ]
  },
  {
   "cell_type": "code",
   "execution_count": 5,
   "metadata": {},
   "outputs": [],
   "source": [
    "tf.reset_default_graph()\n",
    "SAVE_PATH_HYP = 'saves/gnh_hypertext/13'\n",
    "GNH_MODEL_HYP = GraphNeurawkes(64, NUM_VERTICES_FB, 50, False)"
   ]
  },
  {
   "cell_type": "markdown",
   "metadata": {},
   "source": [
    "## Processing functions"
   ]
  },
  {
   "cell_type": "code",
   "execution_count": 10,
   "metadata": {},
   "outputs": [],
   "source": [
    "def get_longest_val_sequence(data_path, gap_size):\n",
    "    df = edge_utils._get_df_from_csv(data_path)\n",
    "    num_ids = max(df.sender.max(), df.recipient.max()) + 1\n",
    "\n",
    "    dfs = edge_utils.cut_on_big_gaps(df, gap_size)\n",
    "    val_count = int(len(dfs) * VAL_RATIO)\n",
    "    val_dfs = dfs[:val_count]\n",
    "    \n",
    "    return df_to_list(max(val_dfs, key=lambda d: len(d)))"
   ]
  },
  {
   "cell_type": "code",
   "execution_count": 7,
   "metadata": {},
   "outputs": [],
   "source": [
    "def calculate_stats_for_seq(seq, mode):\n",
    "    true_len = int(len(seq) * PRED_RATIO)\n",
    "    seed_seq, true_seq = seq[:-true_len], seq[-true_len:]\n",
    "\n",
    "    if mode == 'length':\n",
    "        pred_seq = GNH_MODEL_FB.generate(saved_path=SAVE_PATH_FB, seed=seed_seq, max_events=len(true_seq))\n",
    "    elif mode == 'duration':\n",
    "        pred_seq = GNH_MODEL_FB.generate(saved_path=SAVE_PATH_FB, seed=seed_seq, max_time=true_seq[-1][2])\n",
    "\n",
    "    return calculate_everything(pred_seq, true_seq, NUM_VERTICES_FB)"
   ]
  },
  {
   "cell_type": "markdown",
   "metadata": {},
   "source": [
    "## THE MEAT"
   ]
  },
  {
   "cell_type": "markdown",
   "metadata": {},
   "source": [
    "### Jaccard-esque"
   ]
  },
  {
   "cell_type": "code",
   "execution_count": 11,
   "metadata": {},
   "outputs": [],
   "source": [
    "val_seq = get_longest_val_sequence(DATA_PATH_FB, GAP_SIZE_FB)\n",
    "calculate_stats_for_seq(val_seq)"
   ]
  },
  {
   "cell_type": "markdown",
   "metadata": {},
   "source": [
    "### Synthetic tests"
   ]
  }
 ],
 "metadata": {
  "kernelspec": {
   "display_name": "Python 3",
   "language": "python",
   "name": "python3"
  },
  "language_info": {
   "codemirror_mode": {
    "name": "ipython",
    "version": 3
   },
   "file_extension": ".py",
   "mimetype": "text/x-python",
   "name": "python",
   "nbconvert_exporter": "python",
   "pygments_lexer": "ipython3",
   "version": "3.7.3"
  }
 },
 "nbformat": 4,
 "nbformat_minor": 2
}
